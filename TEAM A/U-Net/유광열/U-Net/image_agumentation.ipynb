{
 "cells": [
  {
   "attachments": {},
   "cell_type": "markdown",
   "metadata": {},
   "source": [
    "# Data agumentation train img"
   ]
  },
  {
   "cell_type": "code",
   "execution_count": 12,
   "metadata": {},
   "outputs": [],
   "source": [
    "import random\n",
    "import numpy as np\n",
    "import os\n",
    "from PIL import Image\n",
    "\n",
    "file_path = 'data4/train/img'\n",
    "file_names = os.listdir(file_path)\n",
    "\n",
    "for file_name in file_names:\n",
    "     image = Image.open(os.path.join(file_path,file_name))\n",
    "     inverted_image = image.transpose(Image.FLIP_LEFT_RIGHT)\n",
    "     inverted_image.save(file_path + '/inverted_' + file_name)\n",
    "     rotated_image = image.rotate(random.randrange(-20, 20))\n",
    "     rotated_image.save(file_path + '/rotated_' + file_name)\n",
    "     inverted_image2 = image.transpose(Image.FLIP_TOP_BOTTOM)\n",
    "     inverted_image2.save(file_path + '/inverted2_' + file_name)"
   ]
  },
  {
   "attachments": {},
   "cell_type": "markdown",
   "metadata": {},
   "source": [
    "# Data agumentation train mask"
   ]
  },
  {
   "cell_type": "code",
   "execution_count": 13,
   "metadata": {},
   "outputs": [],
   "source": [
    "import random\n",
    "import numpy as np\n",
    "import os\n",
    "from PIL import Image\n",
    "\n",
    "file_path = 'data4/train/masks'\n",
    "file_names = os.listdir(file_path)\n",
    "\n",
    "for file_name in file_names:\n",
    "     image = Image.open(os.path.join(file_path,file_name))\n",
    "     inverted_image = image.transpose(Image.FLIP_LEFT_RIGHT)\n",
    "     inverted_image.save(file_path + '/inverted_' + file_name)\n",
    "     rotated_image = image.rotate(random.randrange(-20, 20))\n",
    "     rotated_image.save(file_path + '/rotated_' + file_name)\n",
    "     inverted_image2 = image.transpose(Image.FLIP_TOP_BOTTOM)\n",
    "     inverted_image2.save(file_path + '/inverted2_' + file_name)"
   ]
  },
  {
   "cell_type": "code",
   "execution_count": 9,
   "metadata": {},
   "outputs": [
    {
     "name": "stdout",
     "output_type": "stream",
     "text": [
      "[[  0   0   0]\n",
      " [  0   0 128]\n",
      " [  0   0 255]\n",
      " [  0  67   0]\n",
      " [  0 128 128]\n",
      " [  0 255   0]\n",
      " [  0 255 255]\n",
      " [128   0   0]\n",
      " [128   0 128]\n",
      " [128 128   0]\n",
      " [128 128 128]\n",
      " [192 192 192]\n",
      " [255   0   0]\n",
      " [255   0 255]\n",
      " [255 255   0]]\n",
      "15\n"
     ]
    }
   ],
   "source": [
    "import numpy as np\n",
    "from PIL import Image\n",
    "\n",
    "img = Image.open('data4/train/masks/inverted_1.png')\n",
    "\n",
    "img = np.array(img)\n",
    "\n",
    "# 3차원 배열을 2차원으로 변환\n",
    "arr_2d = img.reshape(-1, img.shape[-1])\n",
    "\n",
    "# 2차원 배열에서 unique한 값을 구함\n",
    "unique_2d = np.unique(arr_2d, axis=0)\n",
    "\n",
    "# 결과 출력\n",
    "print(unique_2d)\n",
    "print(len(unique_2d))"
   ]
  },
  {
   "cell_type": "code",
   "execution_count": null,
   "metadata": {},
   "outputs": [],
   "source": []
  }
 ],
 "metadata": {
  "kernelspec": {
   "display_name": "Unet",
   "language": "python",
   "name": "python3"
  },
  "language_info": {
   "codemirror_mode": {
    "name": "ipython",
    "version": 3
   },
   "file_extension": ".py",
   "mimetype": "text/x-python",
   "name": "python",
   "nbconvert_exporter": "python",
   "pygments_lexer": "ipython3",
   "version": "3.11.3"
  },
  "orig_nbformat": 4
 },
 "nbformat": 4,
 "nbformat_minor": 2
}
