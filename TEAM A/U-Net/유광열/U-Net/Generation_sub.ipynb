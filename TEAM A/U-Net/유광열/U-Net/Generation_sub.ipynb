{
 "cells": [
  {
   "attachments": {},
   "cell_type": "markdown",
   "metadata": {},
   "source": [
    "# Predcit image"
   ]
  },
  {
   "cell_type": "code",
   "execution_count": 1,
   "metadata": {},
   "outputs": [
    {
     "name": "stderr",
     "output_type": "stream",
     "text": [
      "100%|██████████| 5/5 [00:00<00:00, 475.86it/s]\n"
     ]
    }
   ],
   "source": [
    "import os\n",
    "import pandas as pd\n",
    "from PIL import Image\n",
    "import numpy as np\n",
    "from tqdm import tqdm\n",
    "\n",
    "# 이미지 파일들이 저장된 디렉토리 경로 \n",
    "directory = \"Output\" # 해당 부분을 변경하세요\n",
    "\n",
    "# 디렉토리 내에 있는 모든 이미지 파일 경로 리스트\n",
    "img_files = [os.path.join(directory, f) for f in os.listdir(directory)]\n",
    "\n",
    "# 이미지 파일들을 3차원 numpy array로 불러오기\n",
    "images = []\n",
    "for f in tqdm(img_files):\n",
    "    img = np.load(f)\n",
    "    images.append(img)\n",
    "\n",
    "# 3차원 numpy array를 데이터프레임으로 변환\n",
    "df_list = []\n",
    "for i, img in enumerate(images):\n",
    "    height, width, channels = img.shape\n",
    "    img_df = pd.DataFrame(img.reshape(height*width, channels))\n",
    "    img_df['Image'] = i+1  # 이미지 번호\n",
    "    df_list.append(img_df)\n",
    "\n",
    "df = pd.concat(df_list, axis=0)\n",
    "df.columns = ['Red', 'Green', 'Blue', 'Image']\n",
    "df.reset_index(inplace=True)\n",
    "df.drop(['Image','index'],axis=1,inplace=True)\n",
    "df.reset_index(inplace=True)\n",
    "df.columns = ['Image','Red', 'Green', 'Blue']\n",
    "df.to_csv('submission_label.csv', index=False)\n"
   ]
  }
 ],
 "metadata": {
  "kernelspec": {
   "display_name": "Unet",
   "language": "python",
   "name": "python3"
  },
  "language_info": {
   "codemirror_mode": {
    "name": "ipython",
    "version": 3
   },
   "file_extension": ".py",
   "mimetype": "text/x-python",
   "name": "python",
   "nbconvert_exporter": "python",
   "pygments_lexer": "ipython3",
   "version": "3.11.3"
  },
  "orig_nbformat": 4
 },
 "nbformat": 4,
 "nbformat_minor": 2
}
